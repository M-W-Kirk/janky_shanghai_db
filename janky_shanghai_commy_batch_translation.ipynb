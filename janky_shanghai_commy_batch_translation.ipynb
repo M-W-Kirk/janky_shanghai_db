{
 "cells": [
  {
   "cell_type": "code",
   "execution_count": 14,
   "metadata": {},
   "outputs": [],
   "source": [
    "import pandas as pd\n",
    "import numpy as np\n",
    "from google_trans_new import google_translator\n",
    "\n",
    "# ccp_sample_data = pd.read_csv(\"/Users/micahkirkpatrick/janky_shanghai_commy_db/shangy_ccp_db_sample.csv\")\n",
    "# ccp_sample_data.head()"
   ]
  },
  {
   "cell_type": "code",
   "execution_count": 7,
   "metadata": {},
   "outputs": [
    {
     "name": "stdout",
     "output_type": "stream",
     "text": [
      "﻿\"id,name,sex,ethnicity,hometown,organization,id_card_num,address,mobile_num,phone_num,education\"\n",
      "\"1,\"\"陶凌霞\"\",\"\"女\"\",\"\"汉族\"\",\"\"上海\"\",\"\"中共黄浦区委宣传部机关支部委员会\"\",310110198305082041,\"\"松花江路1160弄24号601室\"\",13795206049,null,\"\"硕士研究生\"\"\"\n",
      "\"2,\"\"吕清逸\"\",\"\"男\"\",\"\"汉族\"\",\"\"上海\"\",\"\"黄浦区审计局机关党支部\"\",310102195310292031,null,13621647402,null,\"\"大学\"\"\"\n",
      "\"3,\"\"姚茂华\"\",\"\"男\"\",\"\"汉族\"\",\"\"上海\"\",\"\"中共黄浦区人民政府办公室第三支部委员会 \"\",310103192904081218,null,null,null,\"\"普通高中\"\"\"\n",
      "\"4,\"\"王海玲\"\",\"\"女\"\",\"\"汉族\"\",\"\"上海\"\",\"\"黄浦区人民法院行装科党支部\"\",310108197401092446,null,null,null,\"\"大学\"\"\"\n",
      "\"5,\"\"杨敷敦\"\",\"\"男\"\",\"\"汉族\"\",\"\"江苏太仓\"\",\"\"黄浦区科委第二党支部\"\",310102194212200039,null,null,null,\"\"大专\"\"\"\n",
      "\"6,\"\"许晶彦\"\",\"\"男\"\",\"\"汉族\"\",\"\"上海\"\",\"\"中共黄浦区规划和土地管理局机关在职党支部委员会\"\",310103197601282410,\"\"昌里东路395弄50号201室\"\",13601621253,null,\"\"大学\"\"\"\n",
      "\"7,\"\"钱华安\"\",\"\"男\"\",\"\"汉族\"\",\"\"上海\"\",\"\"中共黄浦区商务委机关第二支部委员会\"\",310109196508156819,null,null,null,\"\"大学\"\"\"\n",
      "\"8,\"\"宋维福\"\",\"\"男\"\",\"\"汉族\"\",\"\"上海\"\",\"\"黄浦区民防办机关支部\"\",310110196309098615,null,null,null,\"\"大学\"\"\"\n",
      "\"9,\"\"王雯\"\",\"\"女\"\",\"\"汉族\"\",\"\"浙江\"\",\"\"中共黄浦区环境保护局机关支部\"\",310109196707306824,null,null,null,\"\"大学\"\"\"\n",
      "\"10,\"\"周健\n"
     ]
    }
   ],
   "source": [
    "f = open('/Users/micahkirkpatrick/janky_shanghai_commy_db/shangy_ccp_db_sample.csv', 'r')\n",
    "if f.mode == 'r':\n",
    "    contents = f.read()\n",
    "    print(contents[0:1000])"
   ]
  },
  {
   "cell_type": "code",
   "execution_count": 23,
   "metadata": {},
   "outputs": [],
   "source": [
    "packets = int(len(contents) / 4000)"
   ]
  },
  {
   "cell_type": "code",
   "execution_count": 24,
   "metadata": {},
   "outputs": [
    {
     "data": {
      "text/plain": [
       "4009"
      ]
     },
     "execution_count": 24,
     "metadata": {},
     "output_type": "execute_result"
    }
   ],
   "source": [
    "len([contents[i:i+packets] for i in range(0, len(contents), packets)])"
   ]
  },
  {
   "cell_type": "code",
   "execution_count": 12,
   "metadata": {},
   "outputs": [
    {
     "name": "stdout",
     "output_type": "stream",
     "text": [
      "Warning: Can only detect less than 5000 characters\n"
     ]
    }
   ],
   "source": [
    "file_translate = google_translator()\n",
    "english_text = []\n",
    "for batch\n",
    "result = file_translate.translate(contents, lang_tgt = 'en')\n",
    "print(result)"
   ]
  },
  {
   "cell_type": "code",
   "execution_count": 2,
   "metadata": {},
   "outputs": [
    {
     "name": "stdout",
     "output_type": "stream",
     "text": [
      "<_csv.reader object at 0x7fec5063c8d0>\n"
     ]
    }
   ],
   "source": [
    "# import csv\n",
    "# unstructured_ccp_sample_data = csv.reader('/Users/micahkirkpatrick/janky_shanghai_commy_db/shangy_ccp_db_sample.csv')\n",
    "# print(unstructured_ccp_sample_data)"
   ]
  },
  {
   "cell_type": "code",
   "execution_count": 3,
   "metadata": {},
   "outputs": [
    {
     "name": "stdout",
     "output_type": "stream",
     "text": [
      "['[\\'\\\\ufeff\"id\\', \\'name\\', \\'sex\\', \\'ethnicity\\', \\'hometown\\', \\'organization\\', \\'id_card_num\\', \\'address\\', \\'mobile_num\\', \\'phone_num\\', \\'education\"\\']', '[\\'1,\"陶凌霞\",\"女\",\"汉族\",\"上海\",\"中共黄浦区委宣传部机关支部委员会\",310110198305082041,\"松花江路1160弄24号601室\",13795206049,null,\"硕士研究生\"\\']', '[\\'2,\"吕清逸\",\"男\",\"汉族\",\"上海\",\"黄浦区审计局机关党支部\",310102195310292031,null,13621647402,null,\"大学\"\\']', '[\\'3,\"姚茂华\",\"男\",\"汉族\",\"上海\",\"中共黄浦区人民政府办公室第三支部委员会 \",310103192904081218,null,null,null,\"普通高中\"\\']', '[\\'4,\"王海玲\",\"女\",\"汉族\",\"上海\",\"黄浦区人民法院行装科党支部\",310108197401092446,null,null,null,\"大学\"\\']']\n"
     ]
    }
   ],
   "source": [
    "# with open('/Users/micahkirkpatrick/janky_shanghai_commy_db/shangy_ccp_db_sample.csv') as csvfile:\n",
    "#     reader = csv.reader(csvfile)\n",
    "#     commy_data_object = []\n",
    "#     for row in reader:\n",
    "#         commy_data_object.append(str(row))\n",
    "   \n",
    "# print(commy_data_object[0:][0:5])"
   ]
  },
  {
   "cell_type": "code",
   "execution_count": 4,
   "metadata": {},
   "outputs": [
    {
     "name": "stdout",
     "output_type": "stream",
     "text": [
      "list\n"
     ]
    }
   ],
   "source": [
    "if isinstance(commy_data_object, list):\n",
    "    print('list')\n",
    "else: \n",
    "    print('not list')"
   ]
  },
  {
   "cell_type": "code",
   "execution_count": 5,
   "metadata": {},
   "outputs": [
    {
     "data": {
      "text/plain": [
       "8192"
      ]
     },
     "execution_count": 5,
     "metadata": {},
     "output_type": "execute_result"
    }
   ],
   "source": [
    "len(commy_data_object)"
   ]
  },
  {
   "cell_type": "code",
   "execution_count": null,
   "metadata": {},
   "outputs": [],
   "source": [
    "# translator = google_translator()\n",
    "# english_commy_data_object = []\n",
    "# for i in commy_data_object:\n",
    "#     single_batch_api_call = translator.translate(i, de)\n",
    "#     english_commy_data_object.append(single_batch_api_call) \n",
    "\n",
    "# print(english_commy_data_object[0:][0:5])"
   ]
  },
  {
   "cell_type": "code",
   "execution_count": null,
   "metadata": {},
   "outputs": [],
   "source": [
    "# from multiprocessing.dummy import Pool as ThreadPool\n",
    "# import time\n",
    "\n",
    "# pool = ThreadPool(8) # Threads\n",
    "\n",
    "# def request(text):\n",
    "#     lang = \"en\"\n",
    "#     t = google_translator(timeout=5)\n",
    "#     translate_text = t.translate(text.strip(), lang)\n",
    "#     return translate_text\n",
    "\n",
    "# time1 = time.time()\n",
    "# with open('/Users/micahkirkpatrick/janky_shanghai_commy_db/shangy_ccp_db_sample.csv','r') as unstructured:\n",
    "#     db_rows = unstructured.readlines()\n",
    "#     try:\n",
    "#         results = pool.map(request, db_rows)\n",
    "#     except Exception as e:\n",
    "#         raise e\n",
    "#     pool.close()\n",
    "#     pool.join()\n",
    "\n",
    "#     time2 = time.time()\n",
    "#     print(\"Translating %s lines, a total of %s s\"%(len(texts),time2 - time1)) "
   ]
  },
  {
   "cell_type": "code",
   "execution_count": 28,
   "metadata": {},
   "outputs": [
    {
     "ename": "AttributeError",
     "evalue": "'str' object has no attribute 'type'",
     "output_type": "error",
     "traceback": [
      "\u001b[0;31m---------------------------------------------------------------------------\u001b[0m",
      "\u001b[0;31mAttributeError\u001b[0m                            Traceback (most recent call last)",
      "\u001b[0;32m<ipython-input-28-718b8144043b>\u001b[0m in \u001b[0;36m<module>\u001b[0;34m\u001b[0m\n\u001b[0;32m----> 1\u001b[0;31m \u001b[0mcontents\u001b[0m\u001b[0;34m.\u001b[0m\u001b[0mtype\u001b[0m\u001b[0;34m(\u001b[0m\u001b[0;34m)\u001b[0m\u001b[0;34m\u001b[0m\u001b[0;34m\u001b[0m\u001b[0m\n\u001b[0m",
      "\u001b[0;31mAttributeError\u001b[0m: 'str' object has no attribute 'type'"
     ]
    }
   ],
   "source": [
    "contents.type()"
   ]
  }
 ],
 "metadata": {
  "kernelspec": {
   "display_name": "Python 3",
   "language": "python",
   "name": "python3"
  },
  "language_info": {
   "codemirror_mode": {
    "name": "ipython",
    "version": 3
   },
   "file_extension": ".py",
   "mimetype": "text/x-python",
   "name": "python",
   "nbconvert_exporter": "python",
   "pygments_lexer": "ipython3",
   "version": "3.7.6"
  }
 },
 "nbformat": 4,
 "nbformat_minor": 4
}
